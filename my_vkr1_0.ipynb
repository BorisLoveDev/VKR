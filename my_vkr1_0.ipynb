{
  "nbformat": 4,
  "nbformat_minor": 0,
  "metadata": {
    "colab": {
      "name": "my_vkr1.0.ipynb",
      "provenance": [],
      "collapsed_sections": []
    },
    "kernelspec": {
      "name": "python3",
      "display_name": "Python 3"
    },
    "language_info": {
      "name": "python"
    },
    "accelerator": "GPU"
  },
  "cells": [
    {
      "cell_type": "code",
      "execution_count": null,
      "metadata": {
        "colab": {
          "base_uri": "https://localhost:8080/"
        },
        "id": "2TCX0OJkZjqw",
        "outputId": "8c0cbbf9-b091-43a4-bed6-3c1903d88ee0"
      },
      "outputs": [
        {
          "output_type": "stream",
          "name": "stdout",
          "text": [
            "/bin/bash: matplotlib: command not found\n"
          ]
        }
      ],
      "source": [
        "#imports\n",
        "\n",
        "import numpy as np\n",
        "from tensorflow import keras\n",
        "from keras.models import load_model\n",
        "from tensorflow.keras import layers\n",
        "import matplotlib.pyplot as plt\n",
        "import cv2\n",
        "import math\n",
        "!matplotlib inlinex\n",
        "np.random.seed(0)"
      ]
    },
    {
      "cell_type": "code",
      "source": [
        "#data load\n",
        "\n",
        "from keras.datasets import mnist\n",
        "(train_images, train_labels), (test_images, test_labels) = keras.datasets.mnist.load_data()\n",
        "print(train_images.shape, train_labels.shape)\n",
        "print(test_images.shape, test_labels.shape)\n"
      ],
      "metadata": {
        "colab": {
          "base_uri": "https://localhost:8080/"
        },
        "id": "FxDgZhoiZ0RG",
        "outputId": "582cdaf5-6ad3-4591-ac7c-1e076078472a"
      },
      "execution_count": null,
      "outputs": [
        {
          "output_type": "stream",
          "name": "stdout",
          "text": [
            "Downloading data from https://storage.googleapis.com/tensorflow/tf-keras-datasets/mnist.npz\n",
            "11493376/11490434 [==============================] - 0s 0us/step\n",
            "11501568/11490434 [==============================] - 0s 0us/step\n",
            "(60000, 28, 28) (60000,)\n",
            "(10000, 28, 28) (10000,)\n"
          ]
        }
      ]
    },
    {
      "cell_type": "code",
      "source": [
        "#Visuailize Examples\n",
        "\n",
        "num_classes = 10\n",
        "f, ax = plt.subplots(1, num_classes, figsize=(28,28))\n",
        "for i in range(0, num_classes):\n",
        "  sample = train_images[train_labels == i][0]\n",
        "  ax[i].imshow(sample, cmap='gray')\n",
        "  ax[i].set_title(\"label: {}\".format(i), fontsize=16)"
      ],
      "metadata": {
        "colab": {
          "base_uri": "https://localhost:8080/",
          "height": 114
        },
        "id": "2uKm0ZXFaENd",
        "outputId": "0da99104-b4b8-4116-b2ae-07878717f31e"
      },
      "execution_count": null,
      "outputs": [
        {
          "output_type": "display_data",
          "data": {
            "text/plain": [
              "<Figure size 2016x2016 with 10 Axes>"
            ],
            "image/png": "[encoded data removed]"
          },
          "metadata": {
            "needs_background": "light"
          }
        }
      ]
    },
    {
      "cell_type": "code",
      "source": [
        "for i in range(num_classes):\n",
        "  print(train_labels[i])"
      ],
      "metadata": {
        "id": "cda9wlobaP07",
        "colab": {
          "base_uri": "https://localhost:8080/"
        },
        "outputId": "531b26f7-def7-4f12-95a7-9ffb95e603b6"
      },
      "execution_count": null,
      "outputs": [
        {
          "output_type": "stream",
          "name": "stdout",
          "text": [
            "5\n",
            "0\n",
            "4\n",
            "1\n",
            "9\n",
            "2\n",
            "1\n",
            "3\n",
            "1\n",
            "4\n"
          ]
        }
      ]
    },
    {
      "cell_type": "markdown",
      "source": [
        "Prepare Data"
      ],
      "metadata": {
        "id": "E0i8EvkCax7e"
      }
    },
    {
      "cell_type": "code",
      "source": [
        "# Scale images to the [0, 1] range\n",
        "train_images = train_images/255.0\n",
        "test_images = test_images/255.0\n",
        "\n",
        "# Make sure images have shape (28, 28, 1)\n",
        "train_images = np.expand_dims(train_images, -1)\n",
        "test_images = np.expand_dims(test_images, -1)\n",
        "print(train_images.shape, \"train samples\")\n",
        "print(test_images.shape, \"test samples\")\n",
        "print(train_images.shape[0], \"train samples\")\n",
        "print(test_images.shape[0], \"test samples\")\n",
        "\n",
        "\n",
        "# convert class vectors to binary class matrices\n",
        "train_labels = keras.utils.to_categorical(train_labels, num_classes)\n",
        "test_labels = keras.utils.to_categorical(test_labels, num_classes)\n"
      ],
      "metadata": {
        "id": "SwhiSDc0a00D",
        "colab": {
          "base_uri": "https://localhost:8080/"
        },
        "outputId": "ad8f471d-4dd9-461a-e0eb-a2404dd3e706"
      },
      "execution_count": null,
      "outputs": [
        {
          "output_type": "stream",
          "name": "stdout",
          "text": [
            "(60000, 28, 28, 1) train samples\n",
            "(10000, 28, 28, 1) test samples\n",
            "60000 train samples\n",
            "10000 test samples\n"
          ]
        }
      ]
    },
    {
      "cell_type": "code",
      "source": [
        "for i in range(num_classes):\n",
        "  print(train_labels[i])\n"
      ],
      "metadata": {
        "colab": {
          "base_uri": "https://localhost:8080/"
        },
        "id": "vJB0gJSbDaW8",
        "outputId": "9cedfee2-78d1-464c-9169-47440cd54f4e"
      },
      "execution_count": null,
      "outputs": [
        {
          "output_type": "stream",
          "name": "stdout",
          "text": [
            "[0. 0. 0. 0. 0. 1. 0. 0. 0. 0.]\n",
            "[1. 0. 0. 0. 0. 0. 0. 0. 0. 0.]\n",
            "[0. 0. 0. 0. 1. 0. 0. 0. 0. 0.]\n",
            "[0. 1. 0. 0. 0. 0. 0. 0. 0. 0.]\n",
            "[0. 0. 0. 0. 0. 0. 0. 0. 0. 1.]\n",
            "[0. 0. 1. 0. 0. 0. 0. 0. 0. 0.]\n",
            "[0. 1. 0. 0. 0. 0. 0. 0. 0. 0.]\n",
            "[0. 0. 0. 1. 0. 0. 0. 0. 0. 0.]\n",
            "[0. 1. 0. 0. 0. 0. 0. 0. 0. 0.]\n",
            "[0. 0. 0. 0. 1. 0. 0. 0. 0. 0.]\n",
            "[[0. 0. 0. 1. 0. 0. 0. 0. 0. 0.]\n",
            " [0. 0. 0. 0. 0. 1. 0. 0. 0. 0.]\n",
            " [0. 0. 0. 1. 0. 0. 0. 0. 0. 0.]\n",
            " [0. 0. 0. 0. 0. 0. 1. 0. 0. 0.]\n",
            " [0. 1. 0. 0. 0. 0. 0. 0. 0. 0.]\n",
            " [0. 0. 0. 0. 0. 0. 0. 1. 0. 0.]\n",
            " [0. 0. 1. 0. 0. 0. 0. 0. 0. 0.]\n",
            " [0. 0. 0. 0. 0. 0. 0. 0. 1. 0.]\n",
            " [0. 0. 0. 0. 0. 0. 1. 0. 0. 0.]\n",
            " [0. 0. 0. 0. 0. 0. 0. 0. 0. 1.]]\n"
          ]
        }
      ]
    },
    {
      "cell_type": "code",
      "source": [
        "COMMITTEE_SIZE = 9\n",
        "input_shape = (28,28,1)\n",
        "print(train_images.shape, \"train samples\")\n",
        "print(train_images.shape[0], \"test samples\")\n",
        "do = train_images.shape[0] // (COMMITTEE_SIZE)\n",
        "print(train_labels.shape)\n",
        "\n",
        "train_mas = np.empty((COMMITTEE_SIZE, do, 28, 28, 1), dtype=\"float32\")\n",
        "labels_mas = np.empty((COMMITTEE_SIZE, do, 10), dtype=\"float32\")\n",
        "\n",
        "for i in range(COMMITTEE_SIZE):\n",
        "   train_mas[i] = train_images[do*i:do * (i + 1)]\n",
        "   labels_mas[i] = train_labels[do*i:do * (i + 1)]\n"
      ],
      "metadata": {
        "id": "40L37y7ebYH8",
        "colab": {
          "base_uri": "https://localhost:8080/"
        },
        "outputId": "52c59b6d-a5b0-4fc0-dd83-d7d0bf011243"
      },
      "execution_count": null,
      "outputs": [
        {
          "output_type": "stream",
          "name": "stdout",
          "text": [
            "(60000, 28, 28, 1) train samples\n",
            "60000 test samples\n",
            "(60000, 10)\n"
          ]
        }
      ]
    },
    {
      "cell_type": "code",
      "source": [
        "  # Average pictures\n",
        "  av_pic_mas = np.zeros((COMMITTEE_SIZE, labels_mas.shape[2], 28, 28, 1))\n",
        "  num_of_number = np.zeros((COMMITTEE_SIZE,labels_mas.shape[2]))\n",
        "  for i in range(COMMITTEE_SIZE):\n",
        "    for j in range(labels_mas.shape[1]):\n",
        "      av_pic_mas[i][np.argmax(labels_mas[i][j])] += train_mas[i][j]\n",
        "      num_of_number[i][np.argmax(labels_mas[i][j])] += 1\n",
        "  print(num_of_number[0])\n",
        "  for i in range(COMMITTEE_SIZE):\n",
        "    for j in range(num_of_number.shape[1]):\n",
        "      av_pic_mas[i][j] /= num_of_number[i][j]\n",
        "\n",
        "\n",
        "       "
      ],
      "metadata": {
        "id": "s38cZpeIKNHm",
        "colab": {
          "base_uri": "https://localhost:8080/"
        },
        "outputId": "6703ba5b-4e88-46c0-82ea-80c989854869"
      },
      "execution_count": null,
      "outputs": [
        {
          "output_type": "stream",
          "name": "stdout",
          "text": [
            "[655. 749. 650. 685. 685. 579. 675. 717. 616. 665.]\n",
            "<built-in method max of numpy.ndarray object at 0x7f4276115330>\n"
          ]
        }
      ]
    },
    {
      "cell_type": "code",
      "source": [
        "#Visuailize average numbers\n",
        "f, ax = plt.subplots(1, num_classes, figsize=(28,28))\n",
        "for i in range(0, num_classes):\n",
        "  sample = av_pic_mas[0][i]\n",
        "  sample = np.squeeze(sample, axis=2)\n",
        "  ax[i].imshow(sample, cmap='gray')\n",
        "  ax[i].set_title(\"label: {}\".format(i), fontsize=16)\n",
        "\n",
        "\n",
        "  # x = av_pic_mas[2][7]\n",
        "  # x = np.squeeze(x, axis=2)\n",
        "  # fig, ax = plt.subplots(1, 1)\n",
        "  # ax.imshow(x, cmap='gray')\n",
        "  # plt.show()\n"
      ],
      "metadata": {
        "colab": {
          "base_uri": "https://localhost:8080/",
          "height": 114
        },
        "id": "ksdYs7Lo6R0e",
        "outputId": "b53bf0e7-7e0c-4be2-e025-9ecebf857ed0"
      },
      "execution_count": null,
      "outputs": [
        {
          "output_type": "display_data",
          "data": {
            "text/plain": [
              "<Figure size 2016x2016 with 10 Axes>"
            ],
            "image/png": "[encoded data removed]"
          },
          "metadata": {
            "needs_background": "light"
          }
        }
      ]
    },
    {
      "cell_type": "code",
      "source": [
        "# Add average pictures to datasets\n",
        "av_pic_labels_mas = np.zeros((9, 10, 10), dtype=float)\n",
        "for i in range(COMMITTEE_SIZE):\n",
        "  av_pic_labels_mas[i] = np.eye(10)\n",
        "train_mas = np.concatenate((train_mas, av_pic_mas), axis=1)\n",
        "labels_mas = np.concatenate((labels_mas, av_pic_labels_mas), axis=1)\n",
        "print(train_mas.shape)\n",
        "print(labels_mas.shape)"
      ],
      "metadata": {
        "colab": {
          "base_uri": "https://localhost:8080/"
        },
        "id": "m7qtI58DIDgz",
        "outputId": "598fd5bf-1601-4aaa-cad9-29c7e79b4dc1"
      },
      "execution_count": null,
      "outputs": [
        {
          "output_type": "stream",
          "name": "stdout",
          "text": [
            "(9, 6676, 28, 28, 1)\n",
            "(9, 6676, 10)\n"
          ]
        }
      ]
    },
    {
      "cell_type": "code",
      "source": [
        "for i in range(COMMITTEE_SIZE):\n",
        "  av_pic_labels_mas[i] = np.eye(10)\n",
        "train_mas = np.concatenate((train_mas, av_pic_mas), axis=1)\n",
        "labels_mas = np.concatenate((labels_mas, av_pic_labels_mas), axis=1)\n",
        "print(train_mas.shape)\n",
        "print(labels_mas.shape)"
      ],
      "metadata": {
        "colab": {
          "base_uri": "https://localhost:8080/"
        },
        "id": "EUinexdiikxl",
        "outputId": "077704d6-3e98-4c5d-b1c5-a91cf7f1a498"
      },
      "execution_count": null,
      "outputs": [
        {
          "output_type": "stream",
          "name": "stdout",
          "text": [
            "(9, 6696, 28, 28, 1)\n",
            "(9, 6696, 10)\n"
          ]
        }
      ]
    },
    {
      "cell_type": "code",
      "source": [
        "def create_model():\n",
        "  model = keras.Sequential(\n",
        "      [\n",
        "        keras.Input(shape=input_shape),\n",
        "        layers.Conv2D(32, kernel_size=(3, 3), activation=\"relu\"),\n",
        "        layers.MaxPooling2D(pool_size=(2, 2)),\n",
        "        layers.Conv2D(64, kernel_size=(3, 3), activation=\"relu\"),\n",
        "        layers.MaxPooling2D(pool_size=(2, 2)),\n",
        "        layers.Flatten(),\n",
        "        layers.Dropout(0.5),\n",
        "        layers.Flatten(),\n",
        "        layers.Dense(512, activation=\"relu\", input_shape=input_shape),\n",
        "        layers.Dense(num_classes, activation=\"softmax\"),\n",
        "    ]\n",
        "  )\n",
        "  model.compile(loss=\"categorical_crossentropy\", optimizer=\"adam\", metrics=[\"accuracy\"])\n",
        "  return (model)\n"
      ],
      "metadata": {
        "id": "acVA0szjeJYi"
      },
      "execution_count": null,
      "outputs": []
    },
    {
      "cell_type": "code",
      "source": [
        "models_mas = []\n",
        "for i in range(COMMITTEE_SIZE):\n",
        "  models_mas.append(create_model())\n",
        "models_mas[0].summary()"
      ],
      "metadata": {
        "id": "HDApnifBQrWE",
        "colab": {
          "base_uri": "https://localhost:8080/"
        },
        "outputId": "d3dc2a50-91d6-480a-972c-fd54aeebd77e"
      },
      "execution_count": null,
      "outputs": [
        {
          "output_type": "stream",
          "name": "stdout",
          "text": [
            "Model: \"sequential\"\n",
            "_________________________________________________________________\n",
            " Layer (type)                Output Shape              Param #   \n",
            "=================================================================\n",
            " conv2d (Conv2D)             (None, 26, 26, 32)        320       \n",
            "                                                                 \n",
            " max_pooling2d (MaxPooling2D  (None, 13, 13, 32)       0         \n",
            " )                                                               \n",
            "                                                                 \n",
            " conv2d_1 (Conv2D)           (None, 11, 11, 64)        18496     \n",
            "                                                                 \n",
            " max_pooling2d_1 (MaxPooling  (None, 5, 5, 64)         0         \n",
            " 2D)                                                             \n",
            "                                                                 \n",
            " flatten (Flatten)           (None, 1600)              0         \n",
            "                                                                 \n",
            " dropout (Dropout)           (None, 1600)              0         \n",
            "                                                                 \n",
            " flatten_1 (Flatten)         (None, 1600)              0         \n",
            "                                                                 \n",
            " dense (Dense)               (None, 512)               819712    \n",
            "                                                                 \n",
            " dense_1 (Dense)             (None, 10)                5130      \n",
            "                                                                 \n",
            "=================================================================\n",
            "Total params: 843,658\n",
            "Trainable params: 843,658\n",
            "Non-trainable params: 0\n",
            "_________________________________________________________________\n"
          ]
        }
      ]
    },
    {
      "cell_type": "code",
      "source": [
        "batch_size = 16\n",
        "epochs = 15\n",
        "for i in range(COMMITTEE_SIZE):\n",
        "  #models_mas[i] = load_model('ski_neuro_ncd'+str(i)+'.h5')\n",
        "#models_mas[0].summary()\n",
        "  models_mas[i].fit(train_mas[i],labels_mas[i], batch_size=batch_size, epochs=epochs, validation_split=0.1)\n",
        "  print(\"Fitting №\", i+1, \"COPMLETE!\")\n"
      ],
      "metadata": {
        "id": "LyWHRb8ATJEY",
        "colab": {
          "base_uri": "https://localhost:8080/"
        },
        "outputId": "9e61d39e-5c53-4fc4-c64c-a0d2c231b734"
      },
      "execution_count": null,
      "outputs": [
        {
          "output_type": "stream",
          "name": "stdout",
          "text": [
            "Epoch 1/15\n",
            "377/377 [==============================] - 2s 4ms/step - loss: 0.0241 - accuracy: 0.9919 - val_loss: 0.0453 - val_accuracy: 0.9940\n",
            "Epoch 2/15\n",
            "377/377 [==============================] - 1s 4ms/step - loss: 0.0227 - accuracy: 0.9934 - val_loss: 0.0714 - val_accuracy: 0.9791\n",
            "Epoch 3/15\n",
            "377/377 [==============================] - 1s 4ms/step - loss: 0.0182 - accuracy: 0.9940 - val_loss: 0.0590 - val_accuracy: 0.9866\n",
            "Epoch 4/15\n",
            "377/377 [==============================] - 1s 4ms/step - loss: 0.0146 - accuracy: 0.9949 - val_loss: 0.0813 - val_accuracy: 0.9851\n",
            "Epoch 5/15\n",
            "377/377 [==============================] - 1s 4ms/step - loss: 0.0129 - accuracy: 0.9954 - val_loss: 0.0685 - val_accuracy: 0.9776\n",
            "Epoch 6/15\n",
            "377/377 [==============================] - 1s 4ms/step - loss: 0.0257 - accuracy: 0.9912 - val_loss: 0.0973 - val_accuracy: 0.9776\n",
            "Epoch 7/15\n",
            "377/377 [==============================] - 1s 4ms/step - loss: 0.0155 - accuracy: 0.9947 - val_loss: 0.1053 - val_accuracy: 0.9776\n",
            "Epoch 8/15\n",
            "377/377 [==============================] - 1s 4ms/step - loss: 0.0118 - accuracy: 0.9952 - val_loss: 0.1344 - val_accuracy: 0.9672\n",
            "Epoch 9/15\n",
            "377/377 [==============================] - 1s 4ms/step - loss: 0.0183 - accuracy: 0.9952 - val_loss: 0.1034 - val_accuracy: 0.9806\n",
            "Epoch 10/15\n",
            "377/377 [==============================] - 1s 4ms/step - loss: 0.0106 - accuracy: 0.9955 - val_loss: 0.0902 - val_accuracy: 0.9776\n",
            "Epoch 11/15\n",
            "377/377 [==============================] - 1s 4ms/step - loss: 0.0207 - accuracy: 0.9930 - val_loss: 0.0631 - val_accuracy: 0.9851\n",
            "Epoch 12/15\n",
            "377/377 [==============================] - 1s 4ms/step - loss: 0.0078 - accuracy: 0.9978 - val_loss: 0.0742 - val_accuracy: 0.9881\n",
            "Epoch 13/15\n",
            "377/377 [==============================] - 2s 4ms/step - loss: 0.0124 - accuracy: 0.9949 - val_loss: 0.0812 - val_accuracy: 0.9866\n",
            "Epoch 14/15\n",
            "377/377 [==============================] - 1s 4ms/step - loss: 0.0126 - accuracy: 0.9967 - val_loss: 0.0556 - val_accuracy: 0.9896\n",
            "Epoch 15/15\n",
            "377/377 [==============================] - 1s 4ms/step - loss: 0.0100 - accuracy: 0.9960 - val_loss: 0.0811 - val_accuracy: 0.9851\n",
            "Fitting № 1 COPMLETE!\n",
            "Epoch 1/15\n",
            "377/377 [==============================] - 1s 4ms/step - loss: 0.0160 - accuracy: 0.9945 - val_loss: 0.1059 - val_accuracy: 0.9761\n",
            "Epoch 2/15\n",
            "377/377 [==============================] - 1s 4ms/step - loss: 0.0185 - accuracy: 0.9942 - val_loss: 0.0873 - val_accuracy: 0.9791\n",
            "Epoch 3/15\n",
            "377/377 [==============================] - 1s 4ms/step - loss: 0.0195 - accuracy: 0.9930 - val_loss: 0.0730 - val_accuracy: 0.9881\n",
            "Epoch 4/15\n",
            "377/377 [==============================] - 1s 4ms/step - loss: 0.0192 - accuracy: 0.9940 - val_loss: 0.0525 - val_accuracy: 0.9791\n",
            "Epoch 5/15\n",
            "377/377 [==============================] - 1s 4ms/step - loss: 0.0186 - accuracy: 0.9932 - val_loss: 0.0904 - val_accuracy: 0.9806\n",
            "Epoch 6/15\n",
            "377/377 [==============================] - 1s 4ms/step - loss: 0.0202 - accuracy: 0.9934 - val_loss: 0.1229 - val_accuracy: 0.9582\n",
            "Epoch 7/15\n",
            "377/377 [==============================] - 1s 4ms/step - loss: 0.0134 - accuracy: 0.9962 - val_loss: 0.0847 - val_accuracy: 0.9746\n",
            "Epoch 8/15\n",
            "377/377 [==============================] - 1s 4ms/step - loss: 0.0104 - accuracy: 0.9962 - val_loss: 0.0977 - val_accuracy: 0.9746\n",
            "Epoch 9/15\n",
            "377/377 [==============================] - 1s 4ms/step - loss: 0.0101 - accuracy: 0.9970 - val_loss: 0.0865 - val_accuracy: 0.9746\n",
            "Epoch 10/15\n",
            "377/377 [==============================] - 1s 4ms/step - loss: 0.0103 - accuracy: 0.9975 - val_loss: 0.0993 - val_accuracy: 0.9791\n",
            "Epoch 11/15\n",
            "377/377 [==============================] - 1s 4ms/step - loss: 0.0131 - accuracy: 0.9970 - val_loss: 0.1027 - val_accuracy: 0.9731\n",
            "Epoch 12/15\n",
            "377/377 [==============================] - 1s 4ms/step - loss: 0.0097 - accuracy: 0.9960 - val_loss: 0.0935 - val_accuracy: 0.9791\n",
            "Epoch 13/15\n",
            "377/377 [==============================] - 1s 4ms/step - loss: 0.0143 - accuracy: 0.9955 - val_loss: 0.1110 - val_accuracy: 0.9701\n",
            "Epoch 14/15\n",
            "377/377 [==============================] - 1s 4ms/step - loss: 0.0159 - accuracy: 0.9945 - val_loss: 0.0820 - val_accuracy: 0.9761\n",
            "Epoch 15/15\n",
            "377/377 [==============================] - 1s 4ms/step - loss: 0.0122 - accuracy: 0.9962 - val_loss: 0.1000 - val_accuracy: 0.9657\n",
            "Fitting № 2 COPMLETE!\n",
            "Epoch 1/15\n",
            "377/377 [==============================] - 1s 4ms/step - loss: 0.0191 - accuracy: 0.9930 - val_loss: 0.0928 - val_accuracy: 0.9806\n",
            "Epoch 2/15\n",
            "377/377 [==============================] - 1s 4ms/step - loss: 0.0262 - accuracy: 0.9915 - val_loss: 0.0897 - val_accuracy: 0.9776\n",
            "Epoch 3/15\n",
            "377/377 [==============================] - 1s 4ms/step - loss: 0.0140 - accuracy: 0.9960 - val_loss: 0.0837 - val_accuracy: 0.9791\n",
            "Epoch 4/15\n",
            "377/377 [==============================] - 1s 4ms/step - loss: 0.0208 - accuracy: 0.9932 - val_loss: 0.0931 - val_accuracy: 0.9746\n",
            "Epoch 5/15\n",
            "377/377 [==============================] - 1s 4ms/step - loss: 0.0146 - accuracy: 0.9957 - val_loss: 0.0630 - val_accuracy: 0.9851\n",
            "Epoch 6/15\n",
            "377/377 [==============================] - 1s 4ms/step - loss: 0.0167 - accuracy: 0.9937 - val_loss: 0.0518 - val_accuracy: 0.9881\n",
            "Epoch 7/15\n",
            "377/377 [==============================] - 1s 4ms/step - loss: 0.0176 - accuracy: 0.9945 - val_loss: 0.0930 - val_accuracy: 0.9791\n",
            "Epoch 8/15\n",
            "377/377 [==============================] - 1s 4ms/step - loss: 0.0178 - accuracy: 0.9942 - val_loss: 0.1244 - val_accuracy: 0.9791\n",
            "Epoch 9/15\n",
            "377/377 [==============================] - 1s 4ms/step - loss: 0.0171 - accuracy: 0.9939 - val_loss: 0.1090 - val_accuracy: 0.9761\n",
            "Epoch 10/15\n",
            "377/377 [==============================] - 1s 4ms/step - loss: 0.0099 - accuracy: 0.9968 - val_loss: 0.0814 - val_accuracy: 0.9836\n",
            "Epoch 11/15\n",
            "377/377 [==============================] - 1s 4ms/step - loss: 0.0144 - accuracy: 0.9945 - val_loss: 0.1021 - val_accuracy: 0.9761\n",
            "Epoch 12/15\n",
            "377/377 [==============================] - 1s 4ms/step - loss: 0.0106 - accuracy: 0.9963 - val_loss: 0.1391 - val_accuracy: 0.9657\n",
            "Epoch 13/15\n",
            "377/377 [==============================] - 1s 4ms/step - loss: 0.0166 - accuracy: 0.9947 - val_loss: 0.0822 - val_accuracy: 0.9821\n",
            "Epoch 14/15\n",
            "377/377 [==============================] - 1s 4ms/step - loss: 0.0145 - accuracy: 0.9955 - val_loss: 0.1284 - val_accuracy: 0.9716\n",
            "Epoch 15/15\n",
            "377/377 [==============================] - 1s 4ms/step - loss: 0.0138 - accuracy: 0.9950 - val_loss: 0.1236 - val_accuracy: 0.9821\n",
            "Fitting № 3 COPMLETE!\n",
            "Epoch 1/15\n",
            "377/377 [==============================] - 1s 4ms/step - loss: 0.0235 - accuracy: 0.9940 - val_loss: 0.1219 - val_accuracy: 0.9761\n",
            "Epoch 2/15\n",
            "377/377 [==============================] - 1s 4ms/step - loss: 0.0200 - accuracy: 0.9932 - val_loss: 0.1460 - val_accuracy: 0.9687\n",
            "Epoch 3/15\n",
            "377/377 [==============================] - 1s 4ms/step - loss: 0.0251 - accuracy: 0.9904 - val_loss: 0.1277 - val_accuracy: 0.9716\n",
            "Epoch 4/15\n",
            "377/377 [==============================] - 1s 4ms/step - loss: 0.0175 - accuracy: 0.9945 - val_loss: 0.1617 - val_accuracy: 0.9687\n",
            "Epoch 5/15\n",
            "377/377 [==============================] - 1s 4ms/step - loss: 0.0153 - accuracy: 0.9944 - val_loss: 0.1265 - val_accuracy: 0.9746\n",
            "Epoch 6/15\n",
            "377/377 [==============================] - 1s 4ms/step - loss: 0.0140 - accuracy: 0.9940 - val_loss: 0.1602 - val_accuracy: 0.9687\n",
            "Epoch 7/15\n",
            "377/377 [==============================] - 1s 4ms/step - loss: 0.0171 - accuracy: 0.9939 - val_loss: 0.1321 - val_accuracy: 0.9806\n",
            "Epoch 8/15\n",
            "377/377 [==============================] - 1s 4ms/step - loss: 0.0173 - accuracy: 0.9949 - val_loss: 0.1630 - val_accuracy: 0.9687\n",
            "Epoch 9/15\n",
            "377/377 [==============================] - 1s 4ms/step - loss: 0.0107 - accuracy: 0.9967 - val_loss: 0.1615 - val_accuracy: 0.9687\n",
            "Epoch 10/15\n",
            "377/377 [==============================] - 1s 4ms/step - loss: 0.0059 - accuracy: 0.9983 - val_loss: 0.1686 - val_accuracy: 0.9746\n",
            "Epoch 11/15\n",
            "377/377 [==============================] - 1s 4ms/step - loss: 0.0090 - accuracy: 0.9972 - val_loss: 0.1454 - val_accuracy: 0.9776\n",
            "Epoch 12/15\n",
            "377/377 [==============================] - 1s 4ms/step - loss: 0.0182 - accuracy: 0.9950 - val_loss: 0.1783 - val_accuracy: 0.9567\n",
            "Epoch 13/15\n",
            "377/377 [==============================] - 1s 4ms/step - loss: 0.0100 - accuracy: 0.9962 - val_loss: 0.1556 - val_accuracy: 0.9791\n",
            "Epoch 14/15\n",
            "377/377 [==============================] - 1s 4ms/step - loss: 0.0165 - accuracy: 0.9944 - val_loss: 0.1592 - val_accuracy: 0.9731\n",
            "Epoch 15/15\n",
            "377/377 [==============================] - 1s 4ms/step - loss: 0.0152 - accuracy: 0.9949 - val_loss: 0.1767 - val_accuracy: 0.9746\n",
            "Fitting № 4 COPMLETE!\n",
            "Epoch 1/15\n",
            "377/377 [==============================] - 1s 4ms/step - loss: 0.0180 - accuracy: 0.9944 - val_loss: 0.0798 - val_accuracy: 0.9866\n",
            "Epoch 2/15\n",
            "377/377 [==============================] - 1s 4ms/step - loss: 0.0193 - accuracy: 0.9930 - val_loss: 0.0959 - val_accuracy: 0.9881\n",
            "Epoch 3/15\n",
            "377/377 [==============================] - 1s 4ms/step - loss: 0.0208 - accuracy: 0.9920 - val_loss: 0.1070 - val_accuracy: 0.9821\n",
            "Epoch 4/15\n",
            "377/377 [==============================] - 1s 4ms/step - loss: 0.0239 - accuracy: 0.9910 - val_loss: 0.1082 - val_accuracy: 0.9761\n",
            "Epoch 5/15\n",
            "377/377 [==============================] - 1s 4ms/step - loss: 0.0150 - accuracy: 0.9947 - val_loss: 0.1262 - val_accuracy: 0.9836\n",
            "Epoch 6/15\n",
            "377/377 [==============================] - 1s 4ms/step - loss: 0.0192 - accuracy: 0.9935 - val_loss: 0.1127 - val_accuracy: 0.9821\n",
            "Epoch 7/15\n",
            "377/377 [==============================] - 1s 4ms/step - loss: 0.0129 - accuracy: 0.9965 - val_loss: 0.0992 - val_accuracy: 0.9806\n",
            "Epoch 8/15\n",
            "377/377 [==============================] - 1s 4ms/step - loss: 0.0156 - accuracy: 0.9945 - val_loss: 0.0992 - val_accuracy: 0.9881\n",
            "Epoch 9/15\n",
            "377/377 [==============================] - 1s 4ms/step - loss: 0.0113 - accuracy: 0.9955 - val_loss: 0.1108 - val_accuracy: 0.9851\n",
            "Epoch 10/15\n",
            "377/377 [==============================] - 1s 4ms/step - loss: 0.0131 - accuracy: 0.9959 - val_loss: 0.1416 - val_accuracy: 0.9791\n",
            "Epoch 11/15\n",
            "377/377 [==============================] - 1s 4ms/step - loss: 0.0203 - accuracy: 0.9945 - val_loss: 0.1095 - val_accuracy: 0.9821\n",
            "Epoch 12/15\n",
            "377/377 [==============================] - 1s 4ms/step - loss: 0.0105 - accuracy: 0.9957 - val_loss: 0.0994 - val_accuracy: 0.9731\n",
            "Epoch 13/15\n",
            "377/377 [==============================] - 1s 4ms/step - loss: 0.0184 - accuracy: 0.9944 - val_loss: 0.1168 - val_accuracy: 0.9761\n",
            "Epoch 14/15\n",
            "377/377 [==============================] - 1s 4ms/step - loss: 0.0123 - accuracy: 0.9967 - val_loss: 0.1190 - val_accuracy: 0.9716\n",
            "Epoch 15/15\n",
            "377/377 [==============================] - 1s 4ms/step - loss: 0.0079 - accuracy: 0.9967 - val_loss: 0.1059 - val_accuracy: 0.9672\n",
            "Fitting № 5 COPMLETE!\n",
            "Epoch 1/15\n",
            "377/377 [==============================] - 1s 4ms/step - loss: 0.0238 - accuracy: 0.9930 - val_loss: 0.1279 - val_accuracy: 0.9791\n",
            "Epoch 2/15\n",
            "377/377 [==============================] - 1s 4ms/step - loss: 0.0189 - accuracy: 0.9944 - val_loss: 0.1566 - val_accuracy: 0.9672\n",
            "Epoch 3/15\n",
            "377/377 [==============================] - 1s 4ms/step - loss: 0.0141 - accuracy: 0.9954 - val_loss: 0.1282 - val_accuracy: 0.9731\n",
            "Epoch 4/15\n",
            "377/377 [==============================] - 1s 4ms/step - loss: 0.0195 - accuracy: 0.9930 - val_loss: 0.1478 - val_accuracy: 0.9731\n",
            "Epoch 5/15\n",
            "377/377 [==============================] - 1s 4ms/step - loss: 0.0207 - accuracy: 0.9930 - val_loss: 0.1378 - val_accuracy: 0.9687\n",
            "Epoch 6/15\n",
            "377/377 [==============================] - 2s 4ms/step - loss: 0.0209 - accuracy: 0.9934 - val_loss: 0.1486 - val_accuracy: 0.9582\n",
            "Epoch 7/15\n",
            "377/377 [==============================] - 1s 4ms/step - loss: 0.0214 - accuracy: 0.9932 - val_loss: 0.1442 - val_accuracy: 0.9672\n",
            "Epoch 8/15\n",
            "377/377 [==============================] - 1s 4ms/step - loss: 0.0095 - accuracy: 0.9965 - val_loss: 0.1488 - val_accuracy: 0.9612\n",
            "Epoch 9/15\n",
            "377/377 [==============================] - 1s 4ms/step - loss: 0.0137 - accuracy: 0.9957 - val_loss: 0.1503 - val_accuracy: 0.9657\n",
            "Epoch 10/15\n",
            "377/377 [==============================] - 1s 4ms/step - loss: 0.0166 - accuracy: 0.9952 - val_loss: 0.1455 - val_accuracy: 0.9701\n",
            "Epoch 11/15\n",
            "377/377 [==============================] - 1s 4ms/step - loss: 0.0166 - accuracy: 0.9949 - val_loss: 0.1649 - val_accuracy: 0.9552\n",
            "Epoch 12/15\n",
            "377/377 [==============================] - 1s 4ms/step - loss: 0.0141 - accuracy: 0.9954 - val_loss: 0.1305 - val_accuracy: 0.9672\n",
            "Epoch 13/15\n",
            "377/377 [==============================] - 1s 4ms/step - loss: 0.0118 - accuracy: 0.9963 - val_loss: 0.1333 - val_accuracy: 0.9746\n",
            "Epoch 14/15\n",
            "377/377 [==============================] - 1s 4ms/step - loss: 0.0141 - accuracy: 0.9955 - val_loss: 0.1441 - val_accuracy: 0.9687\n",
            "Epoch 15/15\n",
            "377/377 [==============================] - 1s 4ms/step - loss: 0.0047 - accuracy: 0.9982 - val_loss: 0.1403 - val_accuracy: 0.9701\n",
            "Fitting № 6 COPMLETE!\n",
            "Epoch 1/15\n",
            "377/377 [==============================] - 1s 4ms/step - loss: 0.0243 - accuracy: 0.9917 - val_loss: 0.1402 - val_accuracy: 0.9687\n",
            "Epoch 2/15\n",
            "377/377 [==============================] - 2s 4ms/step - loss: 0.0180 - accuracy: 0.9947 - val_loss: 0.1399 - val_accuracy: 0.9716\n",
            "Epoch 3/15\n",
            "377/377 [==============================] - 2s 4ms/step - loss: 0.0116 - accuracy: 0.9960 - val_loss: 0.1390 - val_accuracy: 0.9761\n",
            "Epoch 4/15\n",
            "377/377 [==============================] - 1s 4ms/step - loss: 0.0193 - accuracy: 0.9939 - val_loss: 0.0910 - val_accuracy: 0.9821\n",
            "Epoch 5/15\n",
            "377/377 [==============================] - 1s 4ms/step - loss: 0.0246 - accuracy: 0.9927 - val_loss: 0.0970 - val_accuracy: 0.9746\n",
            "Epoch 6/15\n",
            "377/377 [==============================] - 1s 4ms/step - loss: 0.0161 - accuracy: 0.9945 - val_loss: 0.1329 - val_accuracy: 0.9701\n",
            "Epoch 7/15\n",
            "377/377 [==============================] - 1s 4ms/step - loss: 0.0167 - accuracy: 0.9944 - val_loss: 0.1284 - val_accuracy: 0.9701\n",
            "Epoch 8/15\n",
            "377/377 [==============================] - 1s 4ms/step - loss: 0.0097 - accuracy: 0.9970 - val_loss: 0.0890 - val_accuracy: 0.9776\n",
            "Epoch 9/15\n",
            "377/377 [==============================] - 1s 4ms/step - loss: 0.0140 - accuracy: 0.9945 - val_loss: 0.1206 - val_accuracy: 0.9746\n",
            "Epoch 10/15\n",
            "377/377 [==============================] - 1s 4ms/step - loss: 0.0184 - accuracy: 0.9950 - val_loss: 0.0638 - val_accuracy: 0.9791\n",
            "Epoch 11/15\n",
            "377/377 [==============================] - 1s 4ms/step - loss: 0.0143 - accuracy: 0.9954 - val_loss: 0.1472 - val_accuracy: 0.9642\n",
            "Epoch 12/15\n",
            "377/377 [==============================] - 1s 4ms/step - loss: 0.0145 - accuracy: 0.9955 - val_loss: 0.1119 - val_accuracy: 0.9806\n",
            "Epoch 13/15\n",
            "377/377 [==============================] - 1s 4ms/step - loss: 0.0127 - accuracy: 0.9963 - val_loss: 0.1175 - val_accuracy: 0.9791\n",
            "Epoch 14/15\n",
            "377/377 [==============================] - 1s 4ms/step - loss: 0.0127 - accuracy: 0.9963 - val_loss: 0.1035 - val_accuracy: 0.9776\n",
            "Epoch 15/15\n",
            "377/377 [==============================] - 1s 4ms/step - loss: 0.0123 - accuracy: 0.9967 - val_loss: 0.0824 - val_accuracy: 0.9761\n",
            "Fitting № 7 COPMLETE!\n",
            "Epoch 1/15\n",
            "377/377 [==============================] - 1s 4ms/step - loss: 0.0313 - accuracy: 0.9879 - val_loss: 0.1490 - val_accuracy: 0.9746\n",
            "Epoch 2/15\n",
            "377/377 [==============================] - 1s 4ms/step - loss: 0.0199 - accuracy: 0.9930 - val_loss: 0.1582 - val_accuracy: 0.9761\n",
            "Epoch 3/15\n",
            "377/377 [==============================] - 1s 4ms/step - loss: 0.0238 - accuracy: 0.9922 - val_loss: 0.1643 - val_accuracy: 0.9716\n",
            "Epoch 4/15\n",
            "377/377 [==============================] - 1s 4ms/step - loss: 0.0219 - accuracy: 0.9930 - val_loss: 0.1817 - val_accuracy: 0.9731\n",
            "Epoch 5/15\n",
            "377/377 [==============================] - 1s 4ms/step - loss: 0.0176 - accuracy: 0.9939 - val_loss: 0.1462 - val_accuracy: 0.9761\n",
            "Epoch 6/15\n",
            "377/377 [==============================] - 1s 4ms/step - loss: 0.0110 - accuracy: 0.9960 - val_loss: 0.1871 - val_accuracy: 0.9701\n",
            "Epoch 7/15\n",
            "377/377 [==============================] - 1s 4ms/step - loss: 0.0184 - accuracy: 0.9935 - val_loss: 0.1806 - val_accuracy: 0.9716\n",
            "Epoch 8/15\n",
            "377/377 [==============================] - 1s 4ms/step - loss: 0.0174 - accuracy: 0.9949 - val_loss: 0.1889 - val_accuracy: 0.9716\n",
            "Epoch 9/15\n",
            "377/377 [==============================] - 1s 4ms/step - loss: 0.0086 - accuracy: 0.9968 - val_loss: 0.1889 - val_accuracy: 0.9746\n",
            "Epoch 10/15\n",
            "377/377 [==============================] - 1s 4ms/step - loss: 0.0166 - accuracy: 0.9937 - val_loss: 0.2367 - val_accuracy: 0.9687\n",
            "Epoch 11/15\n",
            "377/377 [==============================] - 1s 4ms/step - loss: 0.0128 - accuracy: 0.9954 - val_loss: 0.2684 - val_accuracy: 0.9582\n",
            "Epoch 12/15\n",
            "377/377 [==============================] - 2s 4ms/step - loss: 0.0199 - accuracy: 0.9927 - val_loss: 0.2264 - val_accuracy: 0.9582\n",
            "Epoch 13/15\n",
            "377/377 [==============================] - 2s 4ms/step - loss: 0.0166 - accuracy: 0.9947 - val_loss: 0.2299 - val_accuracy: 0.9642\n",
            "Epoch 14/15\n",
            "377/377 [==============================] - 2s 4ms/step - loss: 0.0124 - accuracy: 0.9967 - val_loss: 0.2963 - val_accuracy: 0.9716\n",
            "Epoch 15/15\n",
            "377/377 [==============================] - 1s 4ms/step - loss: 0.0118 - accuracy: 0.9963 - val_loss: 0.2518 - val_accuracy: 0.9627\n",
            "Fitting № 8 COPMLETE!\n",
            "Epoch 1/15\n",
            "377/377 [==============================] - 2s 4ms/step - loss: 0.0147 - accuracy: 0.9952 - val_loss: 0.1188 - val_accuracy: 0.9836\n",
            "Epoch 2/15\n",
            "377/377 [==============================] - 1s 4ms/step - loss: 0.0218 - accuracy: 0.9919 - val_loss: 0.1351 - val_accuracy: 0.9821\n",
            "Epoch 3/15\n",
            "377/377 [==============================] - 1s 4ms/step - loss: 0.0147 - accuracy: 0.9939 - val_loss: 0.1236 - val_accuracy: 0.9806\n",
            "Epoch 4/15\n",
            "377/377 [==============================] - 1s 4ms/step - loss: 0.0148 - accuracy: 0.9954 - val_loss: 0.1365 - val_accuracy: 0.9806\n",
            "Epoch 5/15\n",
            "377/377 [==============================] - 1s 4ms/step - loss: 0.0076 - accuracy: 0.9978 - val_loss: 0.1464 - val_accuracy: 0.9821\n",
            "Epoch 6/15\n",
            "377/377 [==============================] - 1s 4ms/step - loss: 0.0202 - accuracy: 0.9935 - val_loss: 0.1128 - val_accuracy: 0.9866\n",
            "Epoch 7/15\n",
            "377/377 [==============================] - 1s 4ms/step - loss: 0.0175 - accuracy: 0.9944 - val_loss: 0.1399 - val_accuracy: 0.9806\n",
            "Epoch 8/15\n",
            "377/377 [==============================] - 1s 4ms/step - loss: 0.0105 - accuracy: 0.9967 - val_loss: 0.1552 - val_accuracy: 0.9806\n",
            "Epoch 9/15\n",
            "377/377 [==============================] - 1s 4ms/step - loss: 0.0103 - accuracy: 0.9965 - val_loss: 0.1726 - val_accuracy: 0.9821\n",
            "Epoch 10/15\n",
            "377/377 [==============================] - 1s 4ms/step - loss: 0.0172 - accuracy: 0.9944 - val_loss: 0.1618 - val_accuracy: 0.9776\n",
            "Epoch 11/15\n",
            "377/377 [==============================] - 1s 4ms/step - loss: 0.0126 - accuracy: 0.9962 - val_loss: 0.1280 - val_accuracy: 0.9866\n",
            "Epoch 12/15\n",
            "377/377 [==============================] - 1s 4ms/step - loss: 0.0079 - accuracy: 0.9975 - val_loss: 0.1357 - val_accuracy: 0.9866\n",
            "Epoch 13/15\n",
            "377/377 [==============================] - 1s 4ms/step - loss: 0.0077 - accuracy: 0.9975 - val_loss: 0.1625 - val_accuracy: 0.9776\n",
            "Epoch 14/15\n",
            "377/377 [==============================] - 1s 4ms/step - loss: 0.0090 - accuracy: 0.9967 - val_loss: 0.1577 - val_accuracy: 0.9791\n",
            "Epoch 15/15\n",
            "377/377 [==============================] - 1s 4ms/step - loss: 0.0182 - accuracy: 0.9949 - val_loss: 0.1580 - val_accuracy: 0.9836\n",
            "Fitting № 9 COPMLETE!\n"
          ]
        }
      ]
    },
    {
      "cell_type": "code",
      "source": [
        "# Evaluate\n",
        "for i in range(COMMITTEE_SIZE):\n",
        "  score = models_mas[i].evaluate(test_images, test_labels, verbose=0)\n",
        "  print(\"Neuro №\", i+1, \":\")\n",
        "  print(\"Test loss:\", score[0])\n",
        "  print(\"Test accuracy:\", score[1],\"\\n\")"
      ],
      "metadata": {
        "id": "Ih6s3BAbZQrN",
        "colab": {
          "base_uri": "https://localhost:8080/"
        },
        "outputId": "5ed17654-99df-49a0-d26a-3de5edb5274b"
      },
      "execution_count": null,
      "outputs": [
        {
          "output_type": "stream",
          "name": "stdout",
          "text": [
            "Neuro № 1 :\n",
            "Test loss: 0.07983744144439697\n",
            "Test accuracy: 0.9783999919891357 \n",
            "\n",
            "Neuro № 2 :\n",
            "Test loss: 0.06758861988782883\n",
            "Test accuracy: 0.9817000031471252 \n",
            "\n",
            "Neuro № 3 :\n",
            "Test loss: 0.06443553417921066\n",
            "Test accuracy: 0.9836000204086304 \n",
            "\n",
            "Neuro № 4 :\n",
            "Test loss: 0.08074824512004852\n",
            "Test accuracy: 0.9779000282287598 \n",
            "\n",
            "Neuro № 5 :\n",
            "Test loss: 0.05071113631129265\n",
            "Test accuracy: 0.9836000204086304 \n",
            "\n",
            "Neuro № 6 :\n",
            "Test loss: 0.0782749205827713\n",
            "Test accuracy: 0.9772999882698059 \n",
            "\n",
            "Neuro № 7 :\n",
            "Test loss: 0.06077966466546059\n",
            "Test accuracy: 0.9829000234603882 \n",
            "\n",
            "Neuro № 8 :\n",
            "Test loss: 0.07873189449310303\n",
            "Test accuracy: 0.978600025177002 \n",
            "\n",
            "Neuro № 9 :\n",
            "Test loss: 0.0724564865231514\n",
            "Test accuracy: 0.9818999767303467 \n",
            "\n"
          ]
        }
      ]
    },
    {
      "cell_type": "code",
      "source": [
        "#create simple model\n",
        "#simple_model = load_model('simple_neuro_ncd.h5')\n",
        "\n",
        "bath_size = 128\n",
        "simple_model = create_model()\n",
        "simple_model.fit(train_images,train_labels, batch_size=batch_size, epochs=epochs, validation_split=0.1)"
      ],
      "metadata": {
        "colab": {
          "base_uri": "https://localhost:8080/"
        },
        "id": "VpvrhgyW1gMd",
        "outputId": "e3d6a9f7-8ae3-48b9-a741-679c121fa802"
      },
      "execution_count": null,
      "outputs": [
        {
          "output_type": "stream",
          "name": "stdout",
          "text": [
            "Epoch 1/15\n",
            "3375/3375 [==============================] - 12s 3ms/step - loss: 0.1507 - accuracy: 0.9524 - val_loss: 0.0456 - val_accuracy: 0.9860\n",
            "Epoch 2/15\n",
            "3375/3375 [==============================] - 12s 4ms/step - loss: 0.0649 - accuracy: 0.9793 - val_loss: 0.0408 - val_accuracy: 0.9878\n",
            "Epoch 3/15\n",
            "3375/3375 [==============================] - 14s 4ms/step - loss: 0.0500 - accuracy: 0.9844 - val_loss: 0.0435 - val_accuracy: 0.9883\n",
            "Epoch 4/15\n",
            "3375/3375 [==============================] - 11s 3ms/step - loss: 0.0397 - accuracy: 0.9869 - val_loss: 0.0325 - val_accuracy: 0.9900\n",
            "Epoch 5/15\n",
            "3375/3375 [==============================] - 12s 4ms/step - loss: 0.0358 - accuracy: 0.9885 - val_loss: 0.0319 - val_accuracy: 0.9902\n",
            "Epoch 6/15\n",
            "3375/3375 [==============================] - 11s 3ms/step - loss: 0.0309 - accuracy: 0.9904 - val_loss: 0.0254 - val_accuracy: 0.9932\n",
            "Epoch 7/15\n",
            "3375/3375 [==============================] - 12s 4ms/step - loss: 0.0286 - accuracy: 0.9906 - val_loss: 0.0282 - val_accuracy: 0.9923\n",
            "Epoch 8/15\n",
            "3375/3375 [==============================] - 11s 3ms/step - loss: 0.0263 - accuracy: 0.9915 - val_loss: 0.0240 - val_accuracy: 0.9933\n",
            "Epoch 9/15\n",
            "3375/3375 [==============================] - 11s 3ms/step - loss: 0.0243 - accuracy: 0.9922 - val_loss: 0.0286 - val_accuracy: 0.9943\n",
            "Epoch 10/15\n",
            "3375/3375 [==============================] - 12s 4ms/step - loss: 0.0217 - accuracy: 0.9933 - val_loss: 0.0302 - val_accuracy: 0.9923\n",
            "Epoch 11/15\n",
            "3375/3375 [==============================] - 11s 3ms/step - loss: 0.0205 - accuracy: 0.9938 - val_loss: 0.0352 - val_accuracy: 0.9923\n",
            "Epoch 12/15\n",
            "3375/3375 [==============================] - 12s 4ms/step - loss: 0.0198 - accuracy: 0.9935 - val_loss: 0.0381 - val_accuracy: 0.9918\n",
            "Epoch 13/15\n",
            "3375/3375 [==============================] - 12s 4ms/step - loss: 0.0198 - accuracy: 0.9935 - val_loss: 0.0324 - val_accuracy: 0.9930\n",
            "Epoch 14/15\n",
            "3375/3375 [==============================] - 11s 3ms/step - loss: 0.0186 - accuracy: 0.9943 - val_loss: 0.0281 - val_accuracy: 0.9935\n",
            "Epoch 15/15\n",
            "3375/3375 [==============================] - 12s 4ms/step - loss: 0.0175 - accuracy: 0.9947 - val_loss: 0.0361 - val_accuracy: 0.9933\n"
          ]
        },
        {
          "output_type": "execute_result",
          "data": {
            "text/plain": [
              "<keras.callbacks.History at 0x7f431e3b0ed0>"
            ]
          },
          "metadata": {},
          "execution_count": 15
        }
      ]
    },
    {
      "cell_type": "code",
      "source": [
        "# Evaluate simple model\n",
        "score = simple_model.evaluate(test_images, test_labels, verbose=0)\n",
        "print(\"Test loss:\", score[0])\n",
        "print(\"Test accuracy:\", score[1])"
      ],
      "metadata": {
        "colab": {
          "base_uri": "https://localhost:8080/"
        },
        "id": "FRnLTvLS1vKf",
        "outputId": "9a6f0db7-6c05-45d7-de48-e2ba59a31b90"
      },
      "execution_count": null,
      "outputs": [
        {
          "output_type": "stream",
          "name": "stdout",
          "text": [
            "Test loss: 0.030462445691227913\n",
            "Test accuracy: 0.9922000169754028\n"
          ]
        }
      ]
    },
    {
      "cell_type": "code",
      "source": [
        "# Save weights\n",
        "\n",
        "from keras.models import load_model\n",
        "from google.colab import files\n",
        "for i in range(COMMITTEE_SIZE):\n",
        "  models_mas[i].save('ski_neuro_512cd'+str(i)+'.h5')\n",
        "  files.download('ski_neuro_512cd'+str(i)+'.h5')\n",
        "%ls\n",
        "simple_model.save('simple_neuro_512cd.h5')\n",
        "files.download('simple_neuro_512cd.h5')"
      ],
      "metadata": {
        "colab": {
          "base_uri": "https://localhost:8080/",
          "height": 121
        },
        "id": "kAQIACt_ATOi",
        "outputId": "288a95fb-7dc7-4d5f-d4c0-f7352b5bda66"
      },
      "execution_count": null,
      "outputs": [
        {
          "output_type": "display_data",
          "data": {
            "text/plain": [
              "<IPython.core.display.Javascript object>"
            ],
            "application/javascript": [
              "\n",
              "    async function download(id, filename, size) {\n",
              "      if (!google.colab.kernel.accessAllowed) {\n",
              "        return;\n",
              "      }\n",
              "      const div = document.createElement('div');\n",
              "      const label = document.createElement('label');\n",
              "      label.textContent = `Downloading \"${filename}\": `;\n",
              "      div.appendChild(label);\n",
              "      const progress = document.createElement('progress');\n",
              "      progress.max = size;\n",
              "      div.appendChild(progress);\n",
              "      document.body.appendChild(div);\n",
              "\n",
              "      const buffers = [];\n",
              "      let downloaded = 0;\n",
              "\n",
              "      const channel = await google.colab.kernel.comms.open(id);\n",
              "      // Send a message to notify the kernel that we're ready.\n",
              "      channel.send({})\n",
              "\n",
              "      for await (const message of channel.messages) {\n",
              "        // Send a message to notify the kernel that we're ready.\n",
              "        channel.send({})\n",
              "        if (message.buffers) {\n",
              "          for (const buffer of message.buffers) {\n",
              "            buffers.push(buffer);\n",
              "            downloaded += buffer.byteLength;\n",
              "            progress.value = downloaded;\n",
              "          }\n",
              "        }\n",
              "      }\n",
              "      const blob = new Blob(buffers, {type: 'application/binary'});\n",
              "      const a = document.createElement('a');\n",
              "      a.href = window.URL.createObjectURL(blob);\n",
              "      a.download = filename;\n",
              "      div.appendChild(a);\n",
              "      a.click();\n",
              "      div.remove();\n",
              "    }\n",
              "  "
            ]
          },
          "metadata": {}
        },
        {
          "output_type": "display_data",
          "data": {
            "text/plain": [
              "<IPython.core.display.Javascript object>"
            ],
            "application/javascript": [
              "download(\"download_5f9cc6b9-0638-4b55-9443-72c57e501aea\", \"ski_neuro_512cd0.h5\", 10172632)"
            ]
          },
          "metadata": {}
        },
        {
          "output_type": "display_data",
          "data": {
            "text/plain": [
              "<IPython.core.display.Javascript object>"
            ],
            "application/javascript": [
              "\n",
              "    async function download(id, filename, size) {\n",
              "      if (!google.colab.kernel.accessAllowed) {\n",
              "        return;\n",
              "      }\n",
              "      const div = document.createElement('div');\n",
              "      const label = document.createElement('label');\n",
              "      label.textContent = `Downloading \"${filename}\": `;\n",
              "      div.appendChild(label);\n",
              "      const progress = document.createElement('progress');\n",
              "      progress.max = size;\n",
              "      div.appendChild(progress);\n",
              "      document.body.appendChild(div);\n",
              "\n",
              "      const buffers = [];\n",
              "      let downloaded = 0;\n",
              "\n",
              "      const channel = await google.colab.kernel.comms.open(id);\n",
              "      // Send a message to notify the kernel that we're ready.\n",
              "      channel.send({})\n",
              "\n",
              "      for await (const message of channel.messages) {\n",
              "        // Send a message to notify the kernel that we're ready.\n",
              "        channel.send({})\n",
              "        if (message.buffers) {\n",
              "          for (const buffer of message.buffers) {\n",
              "            buffers.push(buffer);\n",
              "            downloaded += buffer.byteLength;\n",
              "            progress.value = downloaded;\n",
              "          }\n",
              "        }\n",
              "      }\n",
              "      const blob = new Blob(buffers, {type: 'application/binary'});\n",
              "      const a = document.createElement('a');\n",
              "      a.href = window.URL.createObjectURL(blob);\n",
              "      a.download = filename;\n",
              "      div.appendChild(a);\n",
              "      a.click();\n",
              "      div.remove();\n",
              "    }\n",
              "  "
            ]
          },
          "metadata": {}
        },
        {
          "output_type": "display_data",
          "data": {
            "text/plain": [
              "<IPython.core.display.Javascript object>"
            ],
            "application/javascript": [
              "download(\"download_90b57367-b84a-4196-a3c8-b48dcfc2daa1\", \"ski_neuro_512cd1.h5\", 10172656)"
            ]
          },
          "metadata": {}
        },
        {
          "output_type": "display_data",
          "data": {
            "text/plain": [
              "<IPython.core.display.Javascript object>"
            ],
            "application/javascript": [
              "\n",
              "    async function download(id, filename, size) {\n",
              "      if (!google.colab.kernel.accessAllowed) {\n",
              "        return;\n",
              "      }\n",
              "      const div = document.createElement('div');\n",
              "      const label = document.createElement('label');\n",
              "      label.textContent = `Downloading \"${filename}\": `;\n",
              "      div.appendChild(label);\n",
              "      const progress = document.createElement('progress');\n",
              "      progress.max = size;\n",
              "      div.appendChild(progress);\n",
              "      document.body.appendChild(div);\n",
              "\n",
              "      const buffers = [];\n",
              "      let downloaded = 0;\n",
              "\n",
              "      const channel = await google.colab.kernel.comms.open(id);\n",
              "      // Send a message to notify the kernel that we're ready.\n",
              "      channel.send({})\n",
              "\n",
              "      for await (const message of channel.messages) {\n",
              "        // Send a message to notify the kernel that we're ready.\n",
              "        channel.send({})\n",
              "        if (message.buffers) {\n",
              "          for (const buffer of message.buffers) {\n",
              "            buffers.push(buffer);\n",
              "            downloaded += buffer.byteLength;\n",
              "            progress.value = downloaded;\n",
              "          }\n",
              "        }\n",
              "      }\n",
              "      const blob = new Blob(buffers, {type: 'application/binary'});\n",
              "      const a = document.createElement('a');\n",
              "      a.href = window.URL.createObjectURL(blob);\n",
              "      a.download = filename;\n",
              "      div.appendChild(a);\n",
              "      a.click();\n",
              "      div.remove();\n",
              "    }\n",
              "  "
            ]
          },
          "metadata": {}
        },
        {
          "output_type": "display_data",
          "data": {
            "text/plain": [
              "<IPython.core.display.Javascript object>"
            ],
            "application/javascript": [
              "download(\"download_14bff333-cc3b-4ff5-9bce-198500e344a5\", \"ski_neuro_512cd2.h5\", 10172656)"
            ]
          },
          "metadata": {}
        },
        {
          "output_type": "display_data",
          "data": {
            "text/plain": [
              "<IPython.core.display.Javascript object>"
            ],
            "application/javascript": [
              "\n",
              "    async function download(id, filename, size) {\n",
              "      if (!google.colab.kernel.accessAllowed) {\n",
              "        return;\n",
              "      }\n",
              "      const div = document.createElement('div');\n",
              "      const label = document.createElement('label');\n",
              "      label.textContent = `Downloading \"${filename}\": `;\n",
              "      div.appendChild(label);\n",
              "      const progress = document.createElement('progress');\n",
              "      progress.max = size;\n",
              "      div.appendChild(progress);\n",
              "      document.body.appendChild(div);\n",
              "\n",
              "      const buffers = [];\n",
              "      let downloaded = 0;\n",
              "\n",
              "      const channel = await google.colab.kernel.comms.open(id);\n",
              "      // Send a message to notify the kernel that we're ready.\n",
              "      channel.send({})\n",
              "\n",
              "      for await (const message of channel.messages) {\n",
              "        // Send a message to notify the kernel that we're ready.\n",
              "        channel.send({})\n",
              "        if (message.buffers) {\n",
              "          for (const buffer of message.buffers) {\n",
              "            buffers.push(buffer);\n",
              "            downloaded += buffer.byteLength;\n",
              "            progress.value = downloaded;\n",
              "          }\n",
              "        }\n",
              "      }\n",
              "      const blob = new Blob(buffers, {type: 'application/binary'});\n",
              "      const a = document.createElement('a');\n",
              "      a.href = window.URL.createObjectURL(blob);\n",
              "      a.download = filename;\n",
              "      div.appendChild(a);\n",
              "      a.click();\n",
              "      div.remove();\n",
              "    }\n",
              "  "
            ]
          },
          "metadata": {}
        },
        {
          "output_type": "display_data",
          "data": {
            "text/plain": [
              "<IPython.core.display.Javascript object>"
            ],
            "application/javascript": [
              "download(\"download_f3796859-a3ae-4c3c-a1b8-19e0c82a2223\", \"ski_neuro_512cd3.h5\", 10172656)"
            ]
          },
          "metadata": {}
        },
        {
          "output_type": "display_data",
          "data": {
            "text/plain": [
              "<IPython.core.display.Javascript object>"
            ],
            "application/javascript": [
              "\n",
              "    async function download(id, filename, size) {\n",
              "      if (!google.colab.kernel.accessAllowed) {\n",
              "        return;\n",
              "      }\n",
              "      const div = document.createElement('div');\n",
              "      const label = document.createElement('label');\n",
              "      label.textContent = `Downloading \"${filename}\": `;\n",
              "      div.appendChild(label);\n",
              "      const progress = document.createElement('progress');\n",
              "      progress.max = size;\n",
              "      div.appendChild(progress);\n",
              "      document.body.appendChild(div);\n",
              "\n",
              "      const buffers = [];\n",
              "      let downloaded = 0;\n",
              "\n",
              "      const channel = await google.colab.kernel.comms.open(id);\n",
              "      // Send a message to notify the kernel that we're ready.\n",
              "      channel.send({})\n",
              "\n",
              "      for await (const message of channel.messages) {\n",
              "        // Send a message to notify the kernel that we're ready.\n",
              "        channel.send({})\n",
              "        if (message.buffers) {\n",
              "          for (const buffer of message.buffers) {\n",
              "            buffers.push(buffer);\n",
              "            downloaded += buffer.byteLength;\n",
              "            progress.value = downloaded;\n",
              "          }\n",
              "        }\n",
              "      }\n",
              "      const blob = new Blob(buffers, {type: 'application/binary'});\n",
              "      const a = document.createElement('a');\n",
              "      a.href = window.URL.createObjectURL(blob);\n",
              "      a.download = filename;\n",
              "      div.appendChild(a);\n",
              "      a.click();\n",
              "      div.remove();\n",
              "    }\n",
              "  "
            ]
          },
          "metadata": {}
        },
        {
          "output_type": "display_data",
          "data": {
            "text/plain": [
              "<IPython.core.display.Javascript object>"
            ],
            "application/javascript": [
              "download(\"download_a3ed78bf-2ee4-4176-8dba-e651b4736405\", \"ski_neuro_512cd4.h5\", 10172656)"
            ]
          },
          "metadata": {}
        },
        {
          "output_type": "display_data",
          "data": {
            "text/plain": [
              "<IPython.core.display.Javascript object>"
            ],
            "application/javascript": [
              "\n",
              "    async function download(id, filename, size) {\n",
              "      if (!google.colab.kernel.accessAllowed) {\n",
              "        return;\n",
              "      }\n",
              "      const div = document.createElement('div');\n",
              "      const label = document.createElement('label');\n",
              "      label.textContent = `Downloading \"${filename}\": `;\n",
              "      div.appendChild(label);\n",
              "      const progress = document.createElement('progress');\n",
              "      progress.max = size;\n",
              "      div.appendChild(progress);\n",
              "      document.body.appendChild(div);\n",
              "\n",
              "      const buffers = [];\n",
              "      let downloaded = 0;\n",
              "\n",
              "      const channel = await google.colab.kernel.comms.open(id);\n",
              "      // Send a message to notify the kernel that we're ready.\n",
              "      channel.send({})\n",
              "\n",
              "      for await (const message of channel.messages) {\n",
              "        // Send a message to notify the kernel that we're ready.\n",
              "        channel.send({})\n",
              "        if (message.buffers) {\n",
              "          for (const buffer of message.buffers) {\n",
              "            buffers.push(buffer);\n",
              "            downloaded += buffer.byteLength;\n",
              "            progress.value = downloaded;\n",
              "          }\n",
              "        }\n",
              "      }\n",
              "      const blob = new Blob(buffers, {type: 'application/binary'});\n",
              "      const a = document.createElement('a');\n",
              "      a.href = window.URL.createObjectURL(blob);\n",
              "      a.download = filename;\n",
              "      div.appendChild(a);\n",
              "      a.click();\n",
              "      div.remove();\n",
              "    }\n",
              "  "
            ]
          },
          "metadata": {}
        },
        {
          "output_type": "display_data",
          "data": {
            "text/plain": [
              "<IPython.core.display.Javascript object>"
            ],
            "application/javascript": [
              "download(\"download_f93c8f72-63b6-4558-ae40-01d60dc86f67\", \"ski_neuro_512cd5.h5\", 10172840)"
            ]
          },
          "metadata": {}
        },
        {
          "output_type": "display_data",
          "data": {
            "text/plain": [
              "<IPython.core.display.Javascript object>"
            ],
            "application/javascript": [
              "\n",
              "    async function download(id, filename, size) {\n",
              "      if (!google.colab.kernel.accessAllowed) {\n",
              "        return;\n",
              "      }\n",
              "      const div = document.createElement('div');\n",
              "      const label = document.createElement('label');\n",
              "      label.textContent = `Downloading \"${filename}\": `;\n",
              "      div.appendChild(label);\n",
              "      const progress = document.createElement('progress');\n",
              "      progress.max = size;\n",
              "      div.appendChild(progress);\n",
              "      document.body.appendChild(div);\n",
              "\n",
              "      const buffers = [];\n",
              "      let downloaded = 0;\n",
              "\n",
              "      const channel = await google.colab.kernel.comms.open(id);\n",
              "      // Send a message to notify the kernel that we're ready.\n",
              "      channel.send({})\n",
              "\n",
              "      for await (const message of channel.messages) {\n",
              "        // Send a message to notify the kernel that we're ready.\n",
              "        channel.send({})\n",
              "        if (message.buffers) {\n",
              "          for (const buffer of message.buffers) {\n",
              "            buffers.push(buffer);\n",
              "            downloaded += buffer.byteLength;\n",
              "            progress.value = downloaded;\n",
              "          }\n",
              "        }\n",
              "      }\n",
              "      const blob = new Blob(buffers, {type: 'application/binary'});\n",
              "      const a = document.createElement('a');\n",
              "      a.href = window.URL.createObjectURL(blob);\n",
              "      a.download = filename;\n",
              "      div.appendChild(a);\n",
              "      a.click();\n",
              "      div.remove();\n",
              "    }\n",
              "  "
            ]
          },
          "metadata": {}
        },
        {
          "output_type": "display_data",
          "data": {
            "text/plain": [
              "<IPython.core.display.Javascript object>"
            ],
            "application/javascript": [
              "download(\"download_e67f3d7b-4718-4849-b300-adb7714096a0\", \"ski_neuro_512cd6.h5\", 10172840)"
            ]
          },
          "metadata": {}
        },
        {
          "output_type": "display_data",
          "data": {
            "text/plain": [
              "<IPython.core.display.Javascript object>"
            ],
            "application/javascript": [
              "\n",
              "    async function download(id, filename, size) {\n",
              "      if (!google.colab.kernel.accessAllowed) {\n",
              "        return;\n",
              "      }\n",
              "      const div = document.createElement('div');\n",
              "      const label = document.createElement('label');\n",
              "      label.textContent = `Downloading \"${filename}\": `;\n",
              "      div.appendChild(label);\n",
              "      const progress = document.createElement('progress');\n",
              "      progress.max = size;\n",
              "      div.appendChild(progress);\n",
              "      document.body.appendChild(div);\n",
              "\n",
              "      const buffers = [];\n",
              "      let downloaded = 0;\n",
              "\n",
              "      const channel = await google.colab.kernel.comms.open(id);\n",
              "      // Send a message to notify the kernel that we're ready.\n",
              "      channel.send({})\n",
              "\n",
              "      for await (const message of channel.messages) {\n",
              "        // Send a message to notify the kernel that we're ready.\n",
              "        channel.send({})\n",
              "        if (message.buffers) {\n",
              "          for (const buffer of message.buffers) {\n",
              "            buffers.push(buffer);\n",
              "            downloaded += buffer.byteLength;\n",
              "            progress.value = downloaded;\n",
              "          }\n",
              "        }\n",
              "      }\n",
              "      const blob = new Blob(buffers, {type: 'application/binary'});\n",
              "      const a = document.createElement('a');\n",
              "      a.href = window.URL.createObjectURL(blob);\n",
              "      a.download = filename;\n",
              "      div.appendChild(a);\n",
              "      a.click();\n",
              "      div.remove();\n",
              "    }\n",
              "  "
            ]
          },
          "metadata": {}
        },
        {
          "output_type": "display_data",
          "data": {
            "text/plain": [
              "<IPython.core.display.Javascript object>"
            ],
            "application/javascript": [
              "download(\"download_cdfacab3-a2ac-4480-967e-88a446efa48d\", \"ski_neuro_512cd7.h5\", 10172840)"
            ]
          },
          "metadata": {}
        },
        {
          "output_type": "display_data",
          "data": {
            "text/plain": [
              "<IPython.core.display.Javascript object>"
            ],
            "application/javascript": [
              "\n",
              "    async function download(id, filename, size) {\n",
              "      if (!google.colab.kernel.accessAllowed) {\n",
              "        return;\n",
              "      }\n",
              "      const div = document.createElement('div');\n",
              "      const label = document.createElement('label');\n",
              "      label.textContent = `Downloading \"${filename}\": `;\n",
              "      div.appendChild(label);\n",
              "      const progress = document.createElement('progress');\n",
              "      progress.max = size;\n",
              "      div.appendChild(progress);\n",
              "      document.body.appendChild(div);\n",
              "\n",
              "      const buffers = [];\n",
              "      let downloaded = 0;\n",
              "\n",
              "      const channel = await google.colab.kernel.comms.open(id);\n",
              "      // Send a message to notify the kernel that we're ready.\n",
              "      channel.send({})\n",
              "\n",
              "      for await (const message of channel.messages) {\n",
              "        // Send a message to notify the kernel that we're ready.\n",
              "        channel.send({})\n",
              "        if (message.buffers) {\n",
              "          for (const buffer of message.buffers) {\n",
              "            buffers.push(buffer);\n",
              "            downloaded += buffer.byteLength;\n",
              "            progress.value = downloaded;\n",
              "          }\n",
              "        }\n",
              "      }\n",
              "      const blob = new Blob(buffers, {type: 'application/binary'});\n",
              "      const a = document.createElement('a');\n",
              "      a.href = window.URL.createObjectURL(blob);\n",
              "      a.download = filename;\n",
              "      div.appendChild(a);\n",
              "      a.click();\n",
              "      div.remove();\n",
              "    }\n",
              "  "
            ]
          },
          "metadata": {}
        },
        {
          "output_type": "display_data",
          "data": {
            "text/plain": [
              "<IPython.core.display.Javascript object>"
            ],
            "application/javascript": [
              "download(\"download_daa44661-8a71-4580-987f-66d0bf1ee2c2\", \"ski_neuro_512cd8.h5\", 10172840)"
            ]
          },
          "metadata": {}
        },
        {
          "output_type": "stream",
          "name": "stdout",
          "text": [
            "img.png              ski_neuro_512cd3.h5  ski_neuro_ncd0.h5  ski_neuro_ncd6.h5\n",
            "\u001b[0m\u001b[01;34msample_data\u001b[0m/         ski_neuro_512cd4.h5  ski_neuro_ncd1.h5  ski_neuro_ncd7.h5\n",
            "simple_neuro_ncd.h5  ski_neuro_512cd5.h5  ski_neuro_ncd2.h5  ski_neuro_ncd8.h5\n",
            "ski_neuro_512cd0.h5  ski_neuro_512cd6.h5  ski_neuro_ncd3.h5\n",
            "ski_neuro_512cd1.h5  ski_neuro_512cd7.h5  ski_neuro_ncd4.h5\n",
            "ski_neuro_512cd2.h5  ski_neuro_512cd8.h5  ski_neuro_ncd5.h5\n"
          ]
        },
        {
          "output_type": "display_data",
          "data": {
            "text/plain": [
              "<IPython.core.display.Javascript object>"
            ],
            "application/javascript": [
              "\n",
              "    async function download(id, filename, size) {\n",
              "      if (!google.colab.kernel.accessAllowed) {\n",
              "        return;\n",
              "      }\n",
              "      const div = document.createElement('div');\n",
              "      const label = document.createElement('label');\n",
              "      label.textContent = `Downloading \"${filename}\": `;\n",
              "      div.appendChild(label);\n",
              "      const progress = document.createElement('progress');\n",
              "      progress.max = size;\n",
              "      div.appendChild(progress);\n",
              "      document.body.appendChild(div);\n",
              "\n",
              "      const buffers = [];\n",
              "      let downloaded = 0;\n",
              "\n",
              "      const channel = await google.colab.kernel.comms.open(id);\n",
              "      // Send a message to notify the kernel that we're ready.\n",
              "      channel.send({})\n",
              "\n",
              "      for await (const message of channel.messages) {\n",
              "        // Send a message to notify the kernel that we're ready.\n",
              "        channel.send({})\n",
              "        if (message.buffers) {\n",
              "          for (const buffer of message.buffers) {\n",
              "            buffers.push(buffer);\n",
              "            downloaded += buffer.byteLength;\n",
              "            progress.value = downloaded;\n",
              "          }\n",
              "        }\n",
              "      }\n",
              "      const blob = new Blob(buffers, {type: 'application/binary'});\n",
              "      const a = document.createElement('a');\n",
              "      a.href = window.URL.createObjectURL(blob);\n",
              "      a.download = filename;\n",
              "      div.appendChild(a);\n",
              "      a.click();\n",
              "      div.remove();\n",
              "    }\n",
              "  "
            ]
          },
          "metadata": {}
        },
        {
          "output_type": "display_data",
          "data": {
            "text/plain": [
              "<IPython.core.display.Javascript object>"
            ],
            "application/javascript": [
              "download(\"download_d406583d-ca63-4827-b409-b304fdedcc82\", \"simple_neuro_512cd.h5\", 10172840)"
            ]
          },
          "metadata": {}
        }
      ]
    },
    {
      "cell_type": "code",
      "source": [
        "# prepare the image for recognition\n",
        "def prep4rec(img_path):\n",
        "  img = cv2.imread(img_path,cv2.IMREAD_GRAYSCALE)\n",
        "  img = cv2.bitwise_not(img)\n",
        "  img = cv2.blur(img,(10,10))\n",
        "  plt.imshow(img, cmap='gray')\n",
        "  plt.show()\n",
        "  img = cv2.resize(img, (28,28), interpolation= cv2.INTER_AREA)\n",
        "  img = img / 255.0\n",
        "  img = img.reshape(1, 28, 28, 1)\n",
        "  return img"
      ],
      "metadata": {
        "id": "F8zxcnRqSaAL"
      },
      "execution_count": null,
      "outputs": []
    },
    {
      "cell_type": "code",
      "source": [
        "# prepare the image for recognition without imshow\n",
        "def prep4rec0(img_path):\n",
        "  img = cv2.imread(img_path,cv2.IMREAD_GRAYSCALE)\n",
        "  img = cv2.bitwise_not(img)\n",
        "  img = cv2.resize(img, (28,28), interpolation= cv2.INTER_AREA)\n",
        "  img = img / 255.0\n",
        "  img = img.reshape(1, 28, 28, 1)\n",
        "  return img"
      ],
      "metadata": {
        "id": "zoArv45J326-"
      },
      "execution_count": null,
      "outputs": []
    },
    {
      "cell_type": "code",
      "source": [
        "# my predict\n",
        "def my_predict(model, img):\n",
        "  res = model.predict(img)\n",
        "  print(np.argmax(res), np.max(res))\n",
        "  plt.imshow(img.reshape(28,28), cmap='gray')\n",
        "  plt.show()"
      ],
      "metadata": {
        "id": "vlclXvsHP7TH"
      },
      "execution_count": null,
      "outputs": []
    },
    {
      "cell_type": "code",
      "source": [
        "# my predict with unknown without imshow\n",
        "UNKNOWN_LIMIT = 0.8\n",
        "solutions_mas = np.full((COMMITTEE_SIZE), -1)\n",
        "def my_predict0(model, img):\n",
        "  res = model.predict(img)\n",
        "  x = [np.argmax(res), np.max(res)]\n",
        "  if (x[1] <= UNKNOWN_LIMIT):\n",
        "    x[0] = 10\n",
        "  return x"
      ],
      "metadata": {
        "id": "arDk58Dk4KQk"
      },
      "execution_count": null,
      "outputs": []
    },
    {
      "cell_type": "code",
      "source": [
        "# get preditions\n",
        "img = prep4rec(\"img.png\")\n",
        "for i in range(COMMITTEE_SIZE):\n",
        "  buf = my_predict0(models_mas[i], img)\n",
        "  solutions_mas[i] = buf[0]\n",
        "  print(buf)\n",
        "print(\"\\n\",my_predict0(simple_model, img))"
      ],
      "metadata": {
        "colab": {
          "base_uri": "https://localhost:8080/",
          "height": 459
        },
        "id": "IPNLihKg0TvR",
        "outputId": "23906085-6051-4237-e444-f17da5c1fa52"
      },
      "execution_count": null,
      "outputs": [
        {
          "output_type": "display_data",
          "data": {
            "text/plain": [
              "<Figure size 432x288 with 1 Axes>"
            ],
            "image/png": "[encoded data removed]"
          },
          "metadata": {
            "needs_background": "light"
          }
        },
        {
          "output_type": "stream",
          "name": "stdout",
          "text": [
            "[1, 0.8599464]\n",
            "[1, 0.88263136]\n",
            "[10, 0.5668617]\n",
            "[10, 0.74036103]\n",
            "[10, 0.3130661]\n",
            "[10, 0.3714926]\n",
            "[10, 0.28603175]\n",
            "[10, 0.5314789]\n",
            "[10, 0.5345581]\n",
            "\n",
            " [10, 0.72982305]\n"
          ]
        }
      ]
    },
    {
      "cell_type": "code",
      "source": [
        "# checking for an absolute majority\n",
        "print(solutions_mas)\n",
        "UNDECIDED = np.sum(solutions_mas==10)\n",
        "if(UNDECIDED >= math.ceil(COMMITTEE_SIZE/2)):\n",
        "   print(\"THE ANSWER IS UNKNOWN\")\n"
      ],
      "metadata": {
        "colab": {
          "base_uri": "https://localhost:8080/"
        },
        "id": "Kf7HlTRuSm27",
        "outputId": "e5c5f5fb-b448-477c-e3f0-fda5cd2b3221"
      },
      "execution_count": null,
      "outputs": [
        {
          "output_type": "stream",
          "name": "stdout",
          "text": [
            "[ 1  1 10 10 10 10 10 10 10]\n",
            "THE ANSWER IS UNKNOWN\n"
          ]
        }
      ]
    },
    {
      "cell_type": "code",
      "source": [
        "K1 = 0/2\n",
        "K2 = 1/2\n",
        "experts_index = np.where(solutions_mas == 10)[0]\n",
        "unique_val = np.unique(solutions_mas)[:-1]\n",
        "print(experts_index)\n",
        "print(unique_val)\n",
        "\n",
        "\n",
        "for i in experts_index:\n",
        "  prev_val = -1\n",
        "  print('\\n')\n",
        "  for j in unique_val:\n",
        "    img_buf = (K1*img) + (K2*av_pic_mas[i][j])\n",
        "    img_buf /= 2\n",
        "    print(\"Миксуем \", i, \"нейронку с ее средней:\", j)\n",
        "    cur_pred = my_predict0(models_mas[i], img_buf)\n",
        "    print(cur_pred)\n",
        "    cur_val = cur_pred[1]\n",
        "    if (cur_val < prev_val):\n",
        "      cur_val = prev_val\n",
        "    prev_val = cur_val\n",
        "    solutions_mas[i] = cur_pred[0]\n",
        "    plt.imshow(img_buf.reshape(28,28), cmap='gray')\n",
        "    plt.show()\n",
        "print(solutions_mas)"
      ],
      "metadata": {
        "colab": {
          "base_uri": "https://localhost:8080/",
          "height": 1000
        },
        "id": "SUKxUxhbLWZt",
        "outputId": "3cbb7345-4e2d-42de-a80f-0c1b355615f4"
      },
      "execution_count": null,
      "outputs": [
        {
          "output_type": "stream",
          "name": "stdout",
          "text": [
            "[2 3 4 5 6 7 8]\n",
            "[1]\n",
            "\n",
            "\n",
            "Миксуем  2 нейронку с ее средней: 1\n",
            "[10, 0.1260781]\n"
          ]
        },
        {
          "output_type": "display_data",
          "data": {
            "text/plain": [
              "<Figure size 432x288 with 1 Axes>"
            ],
            "image/png": "[encoded data removed]"
          },
          "metadata": {
            "needs_background": "light"
          }
        },
        {
          "output_type": "stream",
          "name": "stdout",
          "text": [
            "\n",
            "\n",
            "Миксуем  3 нейронку с ее средней: 1\n",
            "[10, 0.16964029]\n"
          ]
        },
        {
          "output_type": "display_data",
          "data": {
            "text/plain": [
              "<Figure size 432x288 with 1 Axes>"
            ],
            "image/png": "[encoded data removed]"
          },
          "metadata": {
            "needs_background": "light"
          }
        },
        {
          "output_type": "stream",
          "name": "stdout",
          "text": [
            "\n",
            "\n",
            "Миксуем  4 нейронку с ее средней: 1\n",
            "[10, 0.17843467]\n"
          ]
        },
        {
          "output_type": "display_data",
          "data": {
            "text/plain": [
              "<Figure size 432x288 with 1 Axes>"
            ],
            "image/png": "[encoded data removed]"
          },
          "metadata": {
            "needs_background": "light"
          }
        },
        {
          "output_type": "stream",
          "name": "stdout",
          "text": [
            "\n",
            "\n",
            "Миксуем  5 нейронку с ее средней: 1\n",
            "[10, 0.13567658]\n"
          ]
        },
        {
          "output_type": "display_data",
          "data": {
            "text/plain": [
              "<Figure size 432x288 with 1 Axes>"
            ],
            "image/png": "[encoded data removed]"
          },
          "metadata": {
            "needs_background": "light"
          }
        },
        {
          "output_type": "stream",
          "name": "stdout",
          "text": [
            "\n",
            "\n",
            "Миксуем  6 нейронку с ее средней: 1\n",
            "[10, 0.16957638]\n"
          ]
        },
        {
          "output_type": "display_data",
          "data": {
            "text/plain": [
              "<Figure size 432x288 with 1 Axes>"
            ],
            "image/png": "[encoded data removed]"
          },
          "metadata": {
            "needs_background": "light"
          }
        },
        {
          "output_type": "stream",
          "name": "stdout",
          "text": [
            "\n",
            "\n",
            "Миксуем  7 нейронку с ее средней: 1\n",
            "[10, 0.21821094]\n"
          ]
        },
        {
          "output_type": "display_data",
          "data": {
            "text/plain": [
              "<Figure size 432x288 with 1 Axes>"
            ],
            "image/png": "[encoded data removed]"
          },
          "metadata": {
            "needs_background": "light"
          }
        },
        {
          "output_type": "stream",
          "name": "stdout",
          "text": [
            "\n",
            "\n",
            "Миксуем  8 нейронку с ее средней: 1\n",
            "[10, 0.15872984]\n"
          ]
        },
        {
          "output_type": "display_data",
          "data": {
            "text/plain": [
              "<Figure size 432x288 with 1 Axes>"
            ],
            "image/png": "[encoded data removed]"
          },
          "metadata": {
            "needs_background": "light"
          }
        },
        {
          "output_type": "stream",
          "name": "stdout",
          "text": [
            "[ 1  1 10 10 10 10 10 10 10]\n"
          ]
        }
      ]
    },
    {
      "cell_type": "code",
      "source": [
        "# a = np.zeros((3))\n",
        "# b = np.zeros((3))\n",
        "\n",
        "# a=np.concatenate((a,b))\n",
        "\n",
        "# print(a)\n",
        "# print(solutions_mas)\n",
        "# res = np.where(solutions_mas==10)\n",
        "# res = res[0]\n",
        "# print(res)\n"
      ],
      "metadata": {
        "colab": {
          "base_uri": "https://localhost:8080/"
        },
        "id": "Q9_EhgpA-g-V",
        "outputId": "cd4a71a3-5e45-415c-9c78-32627ec7b879"
      },
      "execution_count": null,
      "outputs": [
        {
          "output_type": "stream",
          "name": "stdout",
          "text": [
            "[ 2 10 10 10  2  2 10  7  2]\n",
            "[1 2 3 6]\n"
          ]
        }
      ]
    },
    {
      "cell_type": "code",
      "source": [
        "# K1 = 1/3\n",
        "# K2 = 2/3\n",
        "# experts_mas = np.full((COMMITTEE_SIZE-UNDECIDED, COMMITTEE_SIZE), -1)\n",
        "# print(experts_mas.shape)\n",
        "# for k in range(COMMITTEE_SIZE-UNDECIDED):\n",
        "#   print(\"K=\",k,\"\\n\")\n",
        "#   for i in range(COMMITTEE_SIZE):\n",
        "#     print(\"I=\",i,\"\\n\")\n",
        "#     if (solutions_mas[i] != 10): # если сетка уверена в решение\n",
        "#       experts_mas[k][i] = solutions_mas[i]\n",
        "#       # перебираем тех, кто не уверен\n",
        "#       for j in range(COMMITTEE_SIZE): \n",
        "#         print(\"j=\",j,\"\\n\")\n",
        "#         if(solutions_mas[j] == 10):\n",
        "#           #print(\"Nero UNDECIDED # \",j,\"| MIXING IMG + \",solutions_mas[i])\n",
        "#           img_buf = (K1*img) + (K2*av_pic_mas[j][solutions_mas[i]])\n",
        "#           img_buf /= 2\n",
        "#           buf = my_predict0(models_mas[j], img_buf)\n",
        "#           print(\"Nero #\",j,\" неуверенна | смешиваем входное IMG с ее средней \",solutions_mas[i], \"| NEW PREDICT \", buf)\n",
        "#           experts_mas[k][j] = buf[0]\n",
        "\n",
        "\n",
        "# print(experts_mas) \n",
        "# print(img_buf.max())\n",
        "# print(solutions_mas[3])\n",
        "# img_buf = img_buf.reshape(1, 28, 28, 1)\n",
        "# my_predict(models_mas[3],img_buf)\n",
        "\n"
      ],
      "metadata": {
        "id": "sOyb8wZ7SxZ3"
      },
      "execution_count": null,
      "outputs": []
    },
    {
      "cell_type": "code",
      "source": [
        "# K1 = 1/3\n",
        "# K2 = 2/3\n",
        "# z=0\n",
        "# opinion_mas = np.full((COMMITTEE_SIZE-UNDECIDED, COMMITTEE_SIZE), -1)\n",
        "# print(opinion_mas.shape)\n",
        "# for i in range(COMMITTEE_SIZE):\n",
        "#   if(solutions_mas[i] !=10): #  если нейронка уверена\n",
        "#     opinion_mas[][i] = solutions_mas[i]\n",
        "#     for j in range(COMMITTEE_SIZE):\n",
        "#       if(solutions_mas[j] == 10):\n",
        "#         z =z+1\n",
        "#         img_buf = (K1*img) + (K2*av_pic_mas[j][solutions_mas[i]])\n",
        "#         img_buf /= 2\n",
        "#         buf = my_predict0(models_mas[j], img_buf)\n",
        "#         opinion_mas[k][j] = buf[0]\n",
        "# #    elif(solutions_mas[i] == 10): # если нейронка не знает\n",
        "# #       print(solutions_mas[i])\n",
        "# #       img_buf = (K1*img) + (K2*av_pic_mas[i][solutions_mas[i]])\n",
        "# #       img_buf /= 2\n",
        "# #       buf = my_predict0(models_mas[j], img_buf)\n",
        "# #       opinion_mas[k][i] = buf[0]\n",
        "# print(opinion_mas)\n",
        "# print(z)"
      ],
      "metadata": {
        "colab": {
          "base_uri": "https://localhost:8080/"
        },
        "id": "vEadJYULPUqf",
        "outputId": "4ffb10e5-0ffb-4d79-8af1-3fb8310ddfe2"
      },
      "execution_count": null,
      "outputs": [
        {
          "output_type": "stream",
          "name": "stdout",
          "text": [
            "(5, 9)\n",
            "[[ 2 10  2  2  2  2 10  7  2]\n",
            " [ 2 10  2  2  2  2 10  7  2]\n",
            " [ 2 10  2  2  2  2 10  7  2]\n",
            " [ 2 10  2  2  2  2 10  7  2]\n",
            " [ 2 10  2  2  2  2 10  7  2]]\n",
            "100\n"
          ]
        }
      ]
    },
    {
      "cell_type": "code",
      "source": [
        "new_solutions_list = []\n",
        "new_solutions_list.append(2)\n",
        "new_solutions_list.append(3)\n",
        "new_solutions_list.append(5)\n",
        "print(new_solutions_list[0])"
      ],
      "metadata": {
        "colab": {
          "base_uri": "https://localhost:8080/"
        },
        "id": "-6CL8--iqarh",
        "outputId": "fec170d2-184d-4cdc-ca41-c3c807ccfa3c"
      },
      "execution_count": null,
      "outputs": [
        {
          "output_type": "stream",
          "name": "stdout",
          "text": [
            "2\n"
          ]
        }
      ]
    },
    {
      "cell_type": "code",
      "source": [
        "  img = cv2.imread('img.png',cv2.IMREAD_GRAYSCALE)\n",
        "  \n",
        "  img = cv2.bitwise_not(img)\n",
        "  x = av_pic_mas[7][7]\n",
        "  img = cv2.resize(img, (28,28), interpolation= cv2.INTER_AREA)\n",
        "  plt.imshow(img, cmap='gray')\n",
        "  plt.show()\n",
        "  img = img / 255.0\n",
        "\n",
        "  x = x.reshape(28,28)\n",
        "  img = ((1/3)*img) + ((2/3)*x)\n",
        "  img = img / 2\n",
        "  plt.imshow(img, cmap='gray')\n",
        "  plt.show()\n",
        "\n",
        "  x = x.reshape(1, 28, 28, 1)\n",
        "  img = img.reshape(1, 28, 28, 1)\n",
        "  print(img.shape)\n",
        "  print(x.shape)"
      ],
      "metadata": {
        "colab": {
          "base_uri": "https://localhost:8080/",
          "height": 548
        },
        "id": "iil9sfsw_7BT",
        "outputId": "e9135822-aff1-4f46-a084-6f14857fbe5b"
      },
      "execution_count": null,
      "outputs": [
        {
          "output_type": "display_data",
          "data": {
            "text/plain": [
              "<Figure size 432x288 with 1 Axes>"
            ],
            "image/png": "[encoded data removed]"
          },
          "metadata": {
            "needs_background": "light"
          }
        },
        {
          "output_type": "display_data",
          "data": {
            "text/plain": [
              "<Figure size 432x288 with 1 Axes>"
            ],
            "image/png": "[encoded data removed]"
          },
          "metadata": {
            "needs_background": "light"
          }
        },
        {
          "output_type": "stream",
          "name": "stdout",
          "text": [
            "(1, 28, 28, 1)\n",
            "(1, 28, 28, 1)\n"
          ]
        }
      ]
    },
    {
      "cell_type": "code",
      "source": [
        "for i in range(COMMITTEE_SIZE):\n",
        "  print(my_predict0(models_mas[i], img))\n",
        "print(\"\\n\",my_predict(full_model, img))"
      ],
      "metadata": {
        "colab": {
          "base_uri": "https://localhost:8080/",
          "height": 473
        },
        "id": "k5XD_X3oCbNV",
        "outputId": "8525cee6-2b30-4ee5-d419-2ad6e59e306e"
      },
      "execution_count": null,
      "outputs": [
        {
          "output_type": "stream",
          "name": "stdout",
          "text": [
            "[7, 0.35948396]\n",
            "[7, 0.2898711]\n",
            "[7, 0.39324167]\n",
            "[7, 0.40054727]\n",
            "[7, 0.34686914]\n",
            "[7, 0.31007156]\n",
            "[7, 0.3602128]\n",
            "[7, 0.348804]\n",
            "[7, 0.38282982]\n",
            "7 0.2978047\n"
          ]
        },
        {
          "output_type": "display_data",
          "data": {
            "text/plain": [
              "<Figure size 432x288 with 1 Axes>"
            ],
            "image/png": "[encoded data removed]"
          },
          "metadata": {
            "needs_background": "light"
          }
        },
        {
          "output_type": "stream",
          "name": "stdout",
          "text": [
            "\n",
            " None\n"
          ]
        }
      ]
    }
  ]
}